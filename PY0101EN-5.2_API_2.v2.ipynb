{
 "cells": [
  {
   "cell_type": "markdown",
   "metadata": {},
   "source": [
    "<center>\n",
    "    <img src=\"https://cf-courses-data.s3.us.cloud-object-storage.appdomain.cloud/assets/logos/SN_web_lightmode.png\" width=\"300\" alt=\"cognitiveclass.ai logo\">\n",
    "</center>\n",
    "\n",
    "# Simple APIs \n",
    "## Random User and Fruitvice API Examples\n",
    "\n",
    "\n",
    "Estimated time needed: **25** minutes\n",
    "\n",
    "## Objectives\n",
    "\n",
    "After completing this lab you will be able to:\n",
    "\n",
    "*   Load and use RandomUser API, using `RandomUser()` Python library\n",
    "*   Load and use Fruitvice API, using `requests` Python library\n",
    "\n"
   ]
  },
  {
   "cell_type": "markdown",
   "metadata": {},
   "source": [
    "The purpose of this notebook is to provide more examples on how to use simple APIs. As you have already learned from previous videos and notebooks, API stands for Application Programming Interface and is a software intermediary that allows two applications to talk to each other. \n",
    "\n",
    "The advantages of using APIs:\n",
    " *   **Automation**. Less human effort is required and workflows can be easily updated to become faster and more      \n",
    "     productive.\n",
    " *   **Efficiency**. It allows to use the capabilities of one of the already developed APIs than to try to \n",
    "     independently implement some functionality from scratch.\n",
    " \n",
    "The disadvantage of using APIs:\n",
    " *   **Secirity**. If the API is poorly integrated, it means it will be vulnerable to attacks, resulting in data    \n",
    "     breeches or losses having financial or reputation implications.\n",
    "\n",
    "One of the applications we will use in this notebook is Random User Generator. RandomUser is an open-source, free API providing developers with randomly generated users to be used as placeholders for testing purposes. This makes the tool similar to Lorem Ipsum, but is a placeholder for people instead of text. The API can return multiple results, as well as specify generated user details such as gender, email, image, username, address, title, first and last name, and more. More information on [RandomUser](https://randomuser.me/documentation?utm_medium=Exinfluencer&utm_source=Exinfluencer&utm_content=000026UJ&utm_term=10006555&utm_id=NA-SkillsNetwork-Channel-SkillsNetworkCoursesIBMDeveloperSkillsNetworkPY0101ENSkillsNetwork1005-2022-01-01#intro) can be found here.\n",
    "\n",
    "Another example of simple API we will use in this notebook is Fruitvice application. The Fruitvice API webservice which provides data for all kinds of fruit! You can use Fruityvice to find out interesting information about fruit and educate yourself. The webservice is completely free to use and contribute to.\n"
   ]
  },
  {
   "cell_type": "markdown",
   "metadata": {},
   "source": [
    "## Example 1: RandomUser API\n",
    "Bellow are Get Methods parameters that we can generate. For more information on the parameters, please visit this [documentation](https://randomuser.me/documentation?utm_medium=Exinfluencer&utm_source=Exinfluencer&utm_content=000026UJ&utm_term=10006555&utm_id=NA-SkillsNetwork-Channel-SkillsNetworkCoursesIBMDeveloperSkillsNetworkPY0101ENSkillsNetwork1005-2022-01-01) page.\n"
   ]
  },
  {
   "cell_type": "markdown",
   "metadata": {},
   "source": [
    "## **Get Methods**\n",
    "\n",
    "- get_cell()\n",
    "- get_city()\n",
    "- get_dob()\n",
    "- get_email()\n",
    "- get_first_name()\n",
    "- get_full_name()\n",
    "- get_gender()\n",
    "- get_id()\n",
    "- get_id_number()\n",
    "- get_id_type()\n",
    "- get_info()\n",
    "- get_last_name()\n",
    "- get_login_md5()\n",
    "- get_login_salt()\n",
    "- get_login_sha1()\n",
    "- get_login_sha256()\n",
    "- get_nat()\n",
    "- get_password()\n",
    "- get_phone()\n",
    "- get_picture()\n",
    "- get_postcode()\n",
    "- get_registered()\n",
    "- get_state()\n",
    "- get_street()\n",
    "- get_username()\n",
    "- get_zipcode()\n"
   ]
  },
  {
   "cell_type": "markdown",
   "metadata": {},
   "source": [
    "To start using the API you can install the `randomuser` library running the `pip install` command.\n"
   ]
  },
  {
   "cell_type": "code",
   "execution_count": null,
   "metadata": {},
   "outputs": [],
   "source": [
    "!pip install randomuser"
   ]
  },
  {
   "cell_type": "markdown",
   "metadata": {},
   "source": [
    "Then, we will load the necessary libraries.\n"
   ]
  },
  {
   "cell_type": "code",
   "execution_count": null,
   "metadata": {},
   "outputs": [],
   "source": [
    "from randomuser import RandomUser\n",
    "import pandas as pd"
   ]
  },
  {
   "cell_type": "markdown",
   "metadata": {},
   "source": [
    "First, we will create a random user object, r.\n"
   ]
  },
  {
   "cell_type": "code",
   "execution_count": null,
   "metadata": {},
   "outputs": [],
   "source": [
    "r = RandomUser()"
   ]
  },
  {
   "cell_type": "markdown",
   "metadata": {},
   "source": [
    "Then, using `generate_users()` function, we get a list of random 10 users.\n"
   ]
  },
  {
   "cell_type": "code",
   "execution_count": null,
   "metadata": {},
   "outputs": [],
   "source": [
    "some_list = r.generate_users(10)"
   ]
  },
  {
   "cell_type": "code",
   "execution_count": null,
   "metadata": {},
   "outputs": [],
   "source": [
    "some_list"
   ]
  },
  {
   "cell_type": "markdown",
   "metadata": {},
   "source": [
    "The **\"Get Methods\"** functions mentioned at the beginning of this notebook, can generate the required parameters to construct a dataset. For example, to get full name, we call `get_full_name()` function.\n"
   ]
  },
  {
   "cell_type": "code",
   "execution_count": null,
   "metadata": {},
   "outputs": [],
   "source": [
    "name = r.get_full_name()"
   ]
  },
  {
   "cell_type": "markdown",
   "metadata": {},
   "source": [
    "Let's say we only need 10 users with full names and their email addresses. We can write a \"for-loop\" to print these 10 users.\n"
   ]
  },
  {
   "cell_type": "code",
   "execution_count": null,
   "metadata": {},
   "outputs": [],
   "source": [
    "for user in some_list:\n",
    "    print (user.get_full_name(),\" \",user.get_email())"
   ]
  },
  {
   "cell_type": "markdown",
   "metadata": {},
   "source": [
    "## Exercise 1\n",
    "In this Exercise, generate photos of the random 5 users.\n"
   ]
  },
  {
   "cell_type": "code",
   "execution_count": 7,
   "metadata": {},
   "outputs": [
    {
     "name": "stdout",
     "output_type": "stream",
     "text": [
      "Requirement already satisfied: randomuser in /home/jupyterlab/conda/envs/python/lib/python3.7/site-packages (1.6)\n",
      "https://randomuser.me/api/portraits/men/60.jpg\n",
      "https://randomuser.me/api/portraits/men/39.jpg\n",
      "https://randomuser.me/api/portraits/women/40.jpg\n",
      "https://randomuser.me/api/portraits/men/45.jpg\n",
      "https://randomuser.me/api/portraits/women/69.jpg\n",
      "https://randomuser.me/api/portraits/men/80.jpg\n",
      "https://randomuser.me/api/portraits/men/52.jpg\n",
      "https://randomuser.me/api/portraits/women/90.jpg\n",
      "https://randomuser.me/api/portraits/men/15.jpg\n",
      "https://randomuser.me/api/portraits/women/37.jpg\n"
     ]
    }
   ],
   "source": [
    "## Wrfrom randomuser import RandomUser\n",
    "!pip install randomuser\n",
    "from randomuser import RandomUser\n",
    "import pandas as pdite\n",
    "r = RandomUser()\n",
    "some_list = r.generate_users(10)\n",
    "name = r.get_full_name()\n",
    "for user in some_list:\n",
    "    print (user.get_picture())"
   ]
  },
  {
   "cell_type": "markdown",
   "metadata": {},
   "source": [
    "<details><summary>Click here for the solution</summary>\n",
    "\n",
    "```python\n",
    "for user in some_list:\n",
    "    print (user.get_picture())\n",
    "```\n",
    "\n",
    "</details>\n"
   ]
  },
  {
   "cell_type": "markdown",
   "metadata": {},
   "source": [
    "To generate a table with information about the users, we can write a function containing all desirable parameters. For example, name, gender, city, etc. The parameters will depend on the requirements of the test to be performed. We call the Get Methods, listed at the beginning of this notebook. Then, we return pandas dataframe with the users.\n"
   ]
  },
  {
   "cell_type": "code",
   "execution_count": null,
   "metadata": {},
   "outputs": [],
   "source": [
    "def get_users():\n",
    "    users =[]\n",
    "     \n",
    "    for user in RandomUser.generate_users(10):\n",
    "        users.append({\"Name\":user.get_full_name(),\"Gender\":user.get_gender(),\"City\":user.get_city(),\"State\":user.get_state(),\"Email\":user.get_email(), \"DOB\":user.get_dob(),\"Picture\":user.get_picture()})\n",
    "      \n",
    "    return pd.DataFrame(users)     "
   ]
  },
  {
   "cell_type": "code",
   "execution_count": null,
   "metadata": {},
   "outputs": [],
   "source": [
    "get_users()"
   ]
  },
  {
   "cell_type": "code",
   "execution_count": null,
   "metadata": {},
   "outputs": [],
   "source": [
    "df1 = pd.DataFrame(get_users())  "
   ]
  },
  {
   "cell_type": "markdown",
   "metadata": {},
   "source": [
    "Now we have a *pandas* dataframe that can be used for any testing purposes that the tester might have.\n"
   ]
  },
  {
   "cell_type": "markdown",
   "metadata": {},
   "source": [
    "## Example 2: Fruitvice API\n",
    "\n",
    "Another, more common way to use APIs, is through `requests` library. The next lab, Requests and HTTP, will contain more information about requests.\n",
    "\n",
    "We will start by importing all required libraries.\n"
   ]
  },
  {
   "cell_type": "code",
   "execution_count": null,
   "metadata": {},
   "outputs": [],
   "source": [
    "import requests\n",
    "import json"
   ]
  },
  {
   "cell_type": "markdown",
   "metadata": {},
   "source": [
    "We will obtain the [fruitvice](https://www.fruityvice.com/?utm_medium=Exinfluencer&utm_source=Exinfluencer&utm_content=000026UJ&utm_term=10006555&utm_id=NA-SkillsNetwork-Channel-SkillsNetworkCoursesIBMDeveloperSkillsNetworkPY0101ENSkillsNetwork1005-2022-01-01) API data using `requests.get(\"url\")` function. The data is in a json format.\n"
   ]
  },
  {
   "cell_type": "code",
   "execution_count": null,
   "metadata": {},
   "outputs": [],
   "source": [
    "data = requests.get(\"https://fruityvice.com/api/fruit/all\")"
   ]
  },
  {
   "cell_type": "markdown",
   "metadata": {},
   "source": [
    "We will retrieve results using `json.loads()` function.\n"
   ]
  },
  {
   "cell_type": "code",
   "execution_count": null,
   "metadata": {},
   "outputs": [],
   "source": [
    "results = json.loads(data.text)"
   ]
  },
  {
   "cell_type": "markdown",
   "metadata": {},
   "source": [
    "We will convert our json data into *pandas* data frame. \n"
   ]
  },
  {
   "cell_type": "code",
   "execution_count": null,
   "metadata": {},
   "outputs": [],
   "source": [
    "pd.DataFrame(results)"
   ]
  },
  {
   "cell_type": "markdown",
   "metadata": {},
   "source": [
    "The result is in a nested json format. The 'nutrition' column contains multiple subcolumns, so the data needs to be 'flattened' or normalized.\n"
   ]
  },
  {
   "cell_type": "code",
   "execution_count": null,
   "metadata": {},
   "outputs": [],
   "source": [
    "df2 = pd.json_normalize(results)"
   ]
  },
  {
   "cell_type": "code",
   "execution_count": null,
   "metadata": {},
   "outputs": [],
   "source": [
    "df2"
   ]
  },
  {
   "cell_type": "markdown",
   "metadata": {},
   "source": [
    "Let's see if we can extract some information from this dataframe. Perhaps, we need to know the family and genus of a cherry.\n"
   ]
  },
  {
   "cell_type": "code",
   "execution_count": null,
   "metadata": {},
   "outputs": [],
   "source": [
    "cherry = df2.loc[df2[\"name\"] == 'Cherry']\n",
    "(cherry.iloc[0]['family']) , (cherry.iloc[0]['genus'])"
   ]
  },
  {
   "cell_type": "markdown",
   "metadata": {},
   "source": [
    "## Exercise 2\n",
    "In this Exercise, find out how many calories are contained in a banana.\n"
   ]
  },
  {
   "cell_type": "code",
   "execution_count": 10,
   "metadata": {},
   "outputs": [
    {
     "data": {
      "text/plain": [
       "96"
      ]
     },
     "execution_count": 10,
     "metadata": {},
     "output_type": "execute_result"
    }
   ],
   "source": [
    "# Write your code here\n",
    "import requests\n",
    "import json\n",
    "import pandas as pd\n",
    "data = requests.get(\"https://fruityvice.com/api/fruit/all\")\n",
    "results = json.loads(data.text)\n",
    "pd.DataFrame(results)\n",
    "df2 = pd.json_normalize(results)\n",
    "cal_banana = df2.loc[df2[\"name\"] == 'Banana']\n",
    "cal_banana.iloc[0]['nutritions.calories']"
   ]
  },
  {
   "cell_type": "markdown",
   "metadata": {},
   "source": [
    "<details><summary>Click here for the solution</summary>\n",
    "\n",
    "```python\n",
    "cal_banana = df2.loc[df2[\"name\"] == 'Banana']\n",
    "cal_banana.iloc[0]['nutritions.calories']\n",
    "```\n",
    "\n",
    "</details>\n"
   ]
  },
  {
   "cell_type": "markdown",
   "metadata": {},
   "source": [
    "## Exercise 3\n",
    "\n",
    "This [page](https://github.com/public-apis/public-apis#animals) contains a list of free public APIs. Choose any API of your interest and use it to load/extract some information, as shown in the example above.\n",
    "1. Using `requests.get(\"url\")` function, load your data.\n"
   ]
  },
  {
   "cell_type": "code",
   "execution_count": 12,
   "metadata": {},
   "outputs": [],
   "source": [
    "# Write your code here\n",
    "import requests\n",
    "import json\n",
    "import pandas as pd\n",
    "data2 = requests.get(\"https://www.fishwatch.gov/api/species\")"
   ]
  },
  {
   "cell_type": "markdown",
   "metadata": {},
   "source": [
    "<details><summary>Click here for the solution</summary>\n",
    "\n",
    "```python\n",
    "data2 = requests.get(\"https://www.fishwatch.gov/api/species\")\n",
    "```\n",
    "\n",
    "</details>\n"
   ]
  },
  {
   "cell_type": "markdown",
   "metadata": {},
   "source": [
    "2. Retrieve results using `json.loads()` function.\n"
   ]
  },
  {
   "cell_type": "code",
   "execution_count": 13,
   "metadata": {},
   "outputs": [],
   "source": [
    "# Write your code here\n",
    "import requests\n",
    "import json\n",
    "import pandas as pd\n",
    "data2 = requests.get(\"https://www.fishwatch.gov/api/species\")\n",
    "results2 = json.loads(data2.text)"
   ]
  },
  {
   "cell_type": "markdown",
   "metadata": {},
   "source": [
    "<details><summary>Click here for the solution</summary>\n",
    "\n",
    "```python\n",
    "results2 = json.loads(data2.text)\n",
    "```\n",
    "\n",
    "</details>\n"
   ]
  },
  {
   "cell_type": "markdown",
   "metadata": {},
   "source": [
    "3. Convert json data into *pandas* data frame. \n"
   ]
  },
  {
   "cell_type": "code",
   "execution_count": 14,
   "metadata": {},
   "outputs": [
    {
     "data": {
      "text/html": [
       "<div>\n",
       "<style scoped>\n",
       "    .dataframe tbody tr th:only-of-type {\n",
       "        vertical-align: middle;\n",
       "    }\n",
       "\n",
       "    .dataframe tbody tr th {\n",
       "        vertical-align: top;\n",
       "    }\n",
       "\n",
       "    .dataframe thead th {\n",
       "        text-align: right;\n",
       "    }\n",
       "</style>\n",
       "<table border=\"1\" class=\"dataframe\">\n",
       "  <thead>\n",
       "    <tr style=\"text-align: right;\">\n",
       "      <th></th>\n",
       "      <th>Fishery Management</th>\n",
       "      <th>Habitat</th>\n",
       "      <th>Habitat Impacts</th>\n",
       "      <th>Image Gallery</th>\n",
       "      <th>Location</th>\n",
       "      <th>Management</th>\n",
       "      <th>NOAA Fisheries Region</th>\n",
       "      <th>Population</th>\n",
       "      <th>Population Status</th>\n",
       "      <th>Scientific Name</th>\n",
       "      <th>...</th>\n",
       "      <th>Selenium</th>\n",
       "      <th>Serving Weight</th>\n",
       "      <th>Servings</th>\n",
       "      <th>Sodium</th>\n",
       "      <th>Source</th>\n",
       "      <th>Sugars, Total</th>\n",
       "      <th>Taste</th>\n",
       "      <th>Texture</th>\n",
       "      <th>Path</th>\n",
       "      <th>last_update</th>\n",
       "    </tr>\n",
       "  </thead>\n",
       "  <tbody>\n",
       "    <tr>\n",
       "      <th>0</th>\n",
       "      <td>&lt;ul&gt;\\n&lt;li&gt;&lt;a href=\"https://www.fisheries.noaa....</td>\n",
       "      <td>None</td>\n",
       "      <td>Bottomfish fishing operations, typically using...</td>\n",
       "      <td>[{'src': 'https://origin-east-01-drupal-fishwa...</td>\n",
       "      <td>&lt;ul&gt;\\n&lt;li&gt;Crimson jobfish are distributed thro...</td>\n",
       "      <td>None</td>\n",
       "      <td>Pacific Islands</td>\n",
       "      <td>The population level is unknown, but the stock...</td>\n",
       "      <td>&lt;ul&gt;\\n&lt;li&gt;There are five stocks of crimson job...</td>\n",
       "      <td>Pristipomoides filamentosus</td>\n",
       "      <td>...</td>\n",
       "      <td>38.2 mcg</td>\n",
       "      <td>100 g (raw)</td>\n",
       "      <td>1</td>\n",
       "      <td>64 mg</td>\n",
       "      <td>&lt;p&gt;U.S -wild caught around Hawaii and Pacific ...</td>\n",
       "      <td>0 g</td>\n",
       "      <td>&lt;p&gt;Crimson jobfish has a delicate flavor.&lt;/p&gt;\\n</td>\n",
       "      <td>&lt;p&gt;Crimson jobfish has&amp;nbsp;a firm texture and...</td>\n",
       "      <td>/profiles/crimson-jobfish</td>\n",
       "      <td>06/21/2022 - 12:00</td>\n",
       "    </tr>\n",
       "    <tr>\n",
       "      <th>1</th>\n",
       "      <td>&lt;ul&gt;\\n&lt;li&gt;&lt;a href=\"https://www.fisheries.noaa....</td>\n",
       "      <td>&lt;ul&gt;\\n&lt;li&gt;White hake are groundfish, meaning t...</td>\n",
       "      <td>Area closures and gear restrictions protect ha...</td>\n",
       "      <td>[{'src': 'https://origin-east-01-drupal-fishwa...</td>\n",
       "      <td>&lt;ul&gt;\\n&lt;li&gt;White hake are found in the northwes...</td>\n",
       "      <td>None</td>\n",
       "      <td>Greater Atlantic</td>\n",
       "      <td>The stock is not overfished.</td>\n",
       "      <td>&lt;ul&gt;\\n&lt;li&gt;According to the 2022&amp;nbsp;stock ass...</td>\n",
       "      <td>Urophycis tenuis</td>\n",
       "      <td>...</td>\n",
       "      <td>32.1 mcg</td>\n",
       "      <td>100 g (raw)</td>\n",
       "      <td>1</td>\n",
       "      <td>72 mg</td>\n",
       "      <td>&lt;p&gt;White hake is wild-caught from Maine to sou...</td>\n",
       "      <td>0 g</td>\n",
       "      <td>&lt;p&gt;White hake has a mild, almost sweet&amp;nbsp;ta...</td>\n",
       "      <td>&lt;p&gt;White hake has a soft, delicate texture tha...</td>\n",
       "      <td>/profiles/white-hake</td>\n",
       "      <td>01/11/2023 - 17:11</td>\n",
       "    </tr>\n",
       "    <tr>\n",
       "      <th>2</th>\n",
       "      <td>&lt;ul&gt;\\n&lt;li&gt;\\n&lt;p&gt;&lt;a href=\"https://archive.fisher...</td>\n",
       "      <td>&lt;ul&gt;\\n&lt;li&gt;Atlantic chub mackerel are a schooli...</td>\n",
       "      <td>Area closures and gear restrictions protect ha...</td>\n",
       "      <td>[{'src': 'https://origin-east-01-drupal-fishwa...</td>\n",
       "      <td>&lt;ul&gt;\\n&lt;li&gt;Atlantic chub mackerel in the wester...</td>\n",
       "      <td>None</td>\n",
       "      <td>Greater Atlantic</td>\n",
       "      <td>The population level is unknown, but manageme...</td>\n",
       "      <td>&lt;p&gt;Atlantic chub mackerel has never been asses...</td>\n",
       "      <td>Scomber colias</td>\n",
       "      <td>...</td>\n",
       "      <td>44.1 mcg</td>\n",
       "      <td>100 g (raw)</td>\n",
       "      <td>1</td>\n",
       "      <td>90 mg</td>\n",
       "      <td>&lt;p&gt;U.S. wild caught from Southern New England ...</td>\n",
       "      <td>0 g</td>\n",
       "      <td>&lt;p&gt;Rich, pronounced flavor.&lt;/p&gt;\\n</td>\n",
       "      <td>&lt;p&gt;Soft, flaky, and moist.&lt;/p&gt;\\n</td>\n",
       "      <td>/profiles/atlantic-chub-mackerel</td>\n",
       "      <td>01/25/2023 - 09:57</td>\n",
       "    </tr>\n",
       "    <tr>\n",
       "      <th>3</th>\n",
       "      <td>&lt;ul&gt;\\n&lt;li&gt;&lt;a href=\"https://www.fisheries.noaa....</td>\n",
       "      <td>&lt;ul&gt;\\n&lt;li&gt;Shortfin squid live in deep and shal...</td>\n",
       "      <td>Fishing gears used to harvest shortfin squid h...</td>\n",
       "      <td>None</td>\n",
       "      <td>&lt;ul&gt;\\n&lt;li&gt;Shortfin squid inhabits the continen...</td>\n",
       "      <td>None</td>\n",
       "      <td>Greater Atlantic</td>\n",
       "      <td>The population level is unknown, but managemen...</td>\n",
       "      <td>&lt;ul&gt;\\n&lt;li&gt;According to the latest assessment (...</td>\n",
       "      <td>Illex illecebrosus</td>\n",
       "      <td>...</td>\n",
       "      <td>44.8 mcg</td>\n",
       "      <td>100 g</td>\n",
       "      <td>1</td>\n",
       "      <td>44 mg</td>\n",
       "      <td>&lt;p&gt;U.S. wild-caught from Maine to North Caroli...</td>\n",
       "      <td>0 g</td>\n",
       "      <td>&lt;p&gt;Mild, and subtly sweet.&lt;/p&gt;\\n&lt;p&gt;&amp;nbsp;&lt;/p&gt;\\n</td>\n",
       "      <td>&lt;p&gt;Firm and meaty.&lt;/p&gt;\\n</td>\n",
       "      <td>/profiles/shortfin-squid</td>\n",
       "      <td>01/24/2023 - 12:42</td>\n",
       "    </tr>\n",
       "    <tr>\n",
       "      <th>4</th>\n",
       "      <td>&lt;ul&gt;\\n&lt;li&gt;The states and &lt;a href=\"https://www....</td>\n",
       "      <td>&lt;ul&gt;\\n&lt;li&gt;American lobsters live on the ocean ...</td>\n",
       "      <td>Fishing gears used to harvest American lobster...</td>\n",
       "      <td>[{'src': 'https://origin-east-01-drupal-fishwa...</td>\n",
       "      <td>&lt;ul&gt;\\n&lt;li&gt;American lobsters are found in the n...</td>\n",
       "      <td>None</td>\n",
       "      <td>Greater Atlantic</td>\n",
       "      <td>The Gulf of Maine/Georges Bank stock is not ov...</td>\n",
       "      <td>&lt;ul&gt;\\n&lt;li&gt;According to the 2020&amp;nbsp;&lt;a href=\"...</td>\n",
       "      <td>Homarus americanus</td>\n",
       "      <td>...</td>\n",
       "      <td>41.4 mcg</td>\n",
       "      <td>100 g (raw)</td>\n",
       "      <td>1</td>\n",
       "      <td>296 mg</td>\n",
       "      <td>&lt;p&gt;U.S. wild-caught from Maine to North Caroli...</td>\n",
       "      <td>0 g</td>\n",
       "      <td>&lt;p&gt;Mild and sweet.&lt;/p&gt;\\n</td>\n",
       "      <td>&lt;p&gt;The meat is firm and somewhat fibrous. The ...</td>\n",
       "      <td>/profiles/american-lobster</td>\n",
       "      <td>01/26/2023 - 15:22</td>\n",
       "    </tr>\n",
       "    <tr>\n",
       "      <th>...</th>\n",
       "      <td>...</td>\n",
       "      <td>...</td>\n",
       "      <td>...</td>\n",
       "      <td>...</td>\n",
       "      <td>...</td>\n",
       "      <td>...</td>\n",
       "      <td>...</td>\n",
       "      <td>...</td>\n",
       "      <td>...</td>\n",
       "      <td>...</td>\n",
       "      <td>...</td>\n",
       "      <td>...</td>\n",
       "      <td>...</td>\n",
       "      <td>...</td>\n",
       "      <td>...</td>\n",
       "      <td>...</td>\n",
       "      <td>...</td>\n",
       "      <td>...</td>\n",
       "      <td>...</td>\n",
       "      <td>...</td>\n",
       "      <td>...</td>\n",
       "    </tr>\n",
       "    <tr>\n",
       "      <th>111</th>\n",
       "      <td>&lt;ul&gt;\\n&lt;li&gt;&lt;a href=\"https://www.fisheries.noaa....</td>\n",
       "      <td>&lt;ul&gt;\\n&lt;li&gt;Younger pollock live in the mid-wate...</td>\n",
       "      <td>The Alaska pollock fishery uses midwater trawl...</td>\n",
       "      <td>[{'src': 'https://origin-east-01-drupal-fishwa...</td>\n",
       "      <td>&lt;ul&gt;\\n&lt;li&gt;Alaska pollock are found throughout ...</td>\n",
       "      <td>None</td>\n",
       "      <td>Alaska</td>\n",
       "      <td>The Aleutian Islands, Eastern Bering Sea, and ...</td>\n",
       "      <td>&lt;ul&gt;\\n&lt;li&gt;There are five stocks of walleye pol...</td>\n",
       "      <td>Gadus chalcogrammus</td>\n",
       "      <td>...</td>\n",
       "      <td>21.9 mcg</td>\n",
       "      <td>100 g (raw)</td>\n",
       "      <td>1</td>\n",
       "      <td>99 mg</td>\n",
       "      <td>&lt;p&gt;U.S. wild-caught, mainly in the Bering Sea ...</td>\n",
       "      <td>0 g</td>\n",
       "      <td>&lt;p&gt;Pollock has mild-tasting flesh and is simil...</td>\n",
       "      <td>&lt;p&gt;Pollock has a relatively fine texture and i...</td>\n",
       "      <td>/profiles/alaska-pollock</td>\n",
       "      <td>01/20/2023 - 15:00</td>\n",
       "    </tr>\n",
       "    <tr>\n",
       "      <th>112</th>\n",
       "      <td>&lt;ul&gt;\\n&lt;li&gt;&lt;a href=\"https://www.greateratlantic...</td>\n",
       "      <td>&lt;ul&gt;\\n&lt;li&gt;Monkfish live on the ocean floor, ty...</td>\n",
       "      <td>Area closures and gear restrictions protect ha...</td>\n",
       "      <td>[{'src': 'https://origin-east-01-drupal-fishwa...</td>\n",
       "      <td>&lt;ul&gt;\\n&lt;li&gt;Monkfish are found in the Northwest ...</td>\n",
       "      <td>None</td>\n",
       "      <td>Greater Atlantic, Southeast</td>\n",
       "      <td>The population level is unknown and management...</td>\n",
       "      <td>&lt;ul&gt;\\n&lt;li&gt;There are two stocks of monkfish: Gu...</td>\n",
       "      <td>Lophius americanus</td>\n",
       "      <td>...</td>\n",
       "      <td>36.5 mcg</td>\n",
       "      <td>100 g (raw)</td>\n",
       "      <td>1</td>\n",
       "      <td>18 mg</td>\n",
       "      <td>&lt;p&gt;U.S. wild-caught from Maine to North Caroli...</td>\n",
       "      <td>0 g</td>\n",
       "      <td>&lt;p&gt;Mild.&lt;/p&gt;\\n</td>\n",
       "      <td>&lt;p&gt;The tail meat is firm, dense, and relativel...</td>\n",
       "      <td>/profiles/monkfish</td>\n",
       "      <td>01/11/2023 - 15:47</td>\n",
       "    </tr>\n",
       "    <tr>\n",
       "      <th>113</th>\n",
       "      <td>&lt;ul&gt;\\n&lt;li&gt;&lt;a href=\"http://sero.nmfs.noaa.gov/\"...</td>\n",
       "      <td>&lt;ul&gt;\\n&lt;li&gt;Mahi mahi live near the surface in t...</td>\n",
       "      <td>Fishing gear used to catch mahi mahi rarely co...</td>\n",
       "      <td>[{'src': 'https://origin-east-01-drupal-fishwa...</td>\n",
       "      <td>&lt;ul&gt;\\n&lt;li&gt;Mahi mahi are found in the Atlantic,...</td>\n",
       "      <td>None</td>\n",
       "      <td>Greater Atlantic, Southeast</td>\n",
       "      <td>The South Atlantic stock is not overfished.</td>\n",
       "      <td>&lt;p&gt;There are two stocks of dolphinfish: a Sout...</td>\n",
       "      <td>Coryphaena hippurus</td>\n",
       "      <td>...</td>\n",
       "      <td>36.5 mcg</td>\n",
       "      <td>100 g (raw)</td>\n",
       "      <td>1</td>\n",
       "      <td>88 mg</td>\n",
       "      <td>&lt;p&gt;Wild-caught from Massachusetts to Texas.&lt;/p&gt;\\n</td>\n",
       "      <td>0 g</td>\n",
       "      <td>&lt;p&gt;Mahi mahi has a sweet, mild flavor. For a m...</td>\n",
       "      <td>&lt;p&gt;Mahi mahi is lean and fairly firm with larg...</td>\n",
       "      <td>/profiles/atlantic-mahi-mahi</td>\n",
       "      <td>01/26/2023 - 14:51</td>\n",
       "    </tr>\n",
       "    <tr>\n",
       "      <th>114</th>\n",
       "      <td>&lt;ul&gt;\\n&lt;li&gt;&lt;a href=\"https://sero.nmfs.noaa.gov/...</td>\n",
       "      <td>&lt;ul&gt;\\n&lt;li&gt;Cobia are found near structures in t...</td>\n",
       "      <td>Fishing gear used to catch cobia rarely contac...</td>\n",
       "      <td>[{'src': 'https://origin-east-01-drupal-fishwa...</td>\n",
       "      <td>&lt;ul&gt;\\n&lt;li&gt;In U.S. waters, cobia are most abund...</td>\n",
       "      <td>None</td>\n",
       "      <td>Greater Atlantic, Southeast</td>\n",
       "      <td>The stock is not overfished.</td>\n",
       "      <td>&lt;ul&gt;\\n&lt;li&gt;\\n&lt;p&gt;According to the 2020 stock ass...</td>\n",
       "      <td>Rachycentron canadum</td>\n",
       "      <td>...</td>\n",
       "      <td>36.5 mcg</td>\n",
       "      <td>100 g (raw)</td>\n",
       "      <td>1</td>\n",
       "      <td>135 mg</td>\n",
       "      <td>&lt;p&gt;Wild-caught from Virginia to Texas. Cobia i...</td>\n",
       "      <td>0 g</td>\n",
       "      <td>&lt;p&gt;Cobia has a sweet, rich flavor.&lt;/p&gt;\\n</td>\n",
       "      <td>&lt;p&gt;Cobia is lean, moist, and firm with a nice ...</td>\n",
       "      <td>/profiles/cobia</td>\n",
       "      <td>01/18/2023 - 12:23</td>\n",
       "    </tr>\n",
       "    <tr>\n",
       "      <th>115</th>\n",
       "      <td>&lt;ul&gt;\\n&lt;li&gt;There are two stocks of Atlantic cod...</td>\n",
       "      <td>&lt;ul&gt;\\n&lt;li&gt;Atlantic cod live near the ocean flo...</td>\n",
       "      <td>Area closures and gear restrictions protect ha...</td>\n",
       "      <td>[{'src': 'https://origin-east-01-drupal-fishwa...</td>\n",
       "      <td>&lt;ul&gt;\\n&lt;li&gt;In the Northwest Atlantic, cod range...</td>\n",
       "      <td>None</td>\n",
       "      <td>Greater Atlantic</td>\n",
       "      <td>The Gulf of Maine and Georges Bank stocks are ...</td>\n",
       "      <td>&lt;ul&gt;\\n&lt;li&gt;There are two stocks of Atlantic cod...</td>\n",
       "      <td>Gadus morhua</td>\n",
       "      <td>...</td>\n",
       "      <td>33.1 mcg</td>\n",
       "      <td>100 g</td>\n",
       "      <td>1</td>\n",
       "      <td>54 mg</td>\n",
       "      <td>&lt;p&gt;Wild-caught from Maine to Virginia.&lt;/p&gt;\\n</td>\n",
       "      <td>0 g</td>\n",
       "      <td>&lt;p&gt;Atlantic cod has a mild clean flavor. It is...</td>\n",
       "      <td>&lt;p&gt;Cod has large flakes. It's less firm than h...</td>\n",
       "      <td>/profiles/atlantic-cod</td>\n",
       "      <td>01/19/2023 - 17:28</td>\n",
       "    </tr>\n",
       "  </tbody>\n",
       "</table>\n",
       "<p>116 rows × 56 columns</p>\n",
       "</div>"
      ],
      "text/plain": [
       "                                    Fishery Management  \\\n",
       "0    <ul>\\n<li><a href=\"https://www.fisheries.noaa....   \n",
       "1    <ul>\\n<li><a href=\"https://www.fisheries.noaa....   \n",
       "2    <ul>\\n<li>\\n<p><a href=\"https://archive.fisher...   \n",
       "3    <ul>\\n<li><a href=\"https://www.fisheries.noaa....   \n",
       "4    <ul>\\n<li>The states and <a href=\"https://www....   \n",
       "..                                                 ...   \n",
       "111  <ul>\\n<li><a href=\"https://www.fisheries.noaa....   \n",
       "112  <ul>\\n<li><a href=\"https://www.greateratlantic...   \n",
       "113  <ul>\\n<li><a href=\"http://sero.nmfs.noaa.gov/\"...   \n",
       "114  <ul>\\n<li><a href=\"https://sero.nmfs.noaa.gov/...   \n",
       "115  <ul>\\n<li>There are two stocks of Atlantic cod...   \n",
       "\n",
       "                                               Habitat  \\\n",
       "0                                                 None   \n",
       "1    <ul>\\n<li>White hake are groundfish, meaning t...   \n",
       "2    <ul>\\n<li>Atlantic chub mackerel are a schooli...   \n",
       "3    <ul>\\n<li>Shortfin squid live in deep and shal...   \n",
       "4    <ul>\\n<li>American lobsters live on the ocean ...   \n",
       "..                                                 ...   \n",
       "111  <ul>\\n<li>Younger pollock live in the mid-wate...   \n",
       "112  <ul>\\n<li>Monkfish live on the ocean floor, ty...   \n",
       "113  <ul>\\n<li>Mahi mahi live near the surface in t...   \n",
       "114  <ul>\\n<li>Cobia are found near structures in t...   \n",
       "115  <ul>\\n<li>Atlantic cod live near the ocean flo...   \n",
       "\n",
       "                                       Habitat Impacts  \\\n",
       "0    Bottomfish fishing operations, typically using...   \n",
       "1    Area closures and gear restrictions protect ha...   \n",
       "2    Area closures and gear restrictions protect ha...   \n",
       "3    Fishing gears used to harvest shortfin squid h...   \n",
       "4    Fishing gears used to harvest American lobster...   \n",
       "..                                                 ...   \n",
       "111  The Alaska pollock fishery uses midwater trawl...   \n",
       "112  Area closures and gear restrictions protect ha...   \n",
       "113  Fishing gear used to catch mahi mahi rarely co...   \n",
       "114  Fishing gear used to catch cobia rarely contac...   \n",
       "115  Area closures and gear restrictions protect ha...   \n",
       "\n",
       "                                         Image Gallery  \\\n",
       "0    [{'src': 'https://origin-east-01-drupal-fishwa...   \n",
       "1    [{'src': 'https://origin-east-01-drupal-fishwa...   \n",
       "2    [{'src': 'https://origin-east-01-drupal-fishwa...   \n",
       "3                                                 None   \n",
       "4    [{'src': 'https://origin-east-01-drupal-fishwa...   \n",
       "..                                                 ...   \n",
       "111  [{'src': 'https://origin-east-01-drupal-fishwa...   \n",
       "112  [{'src': 'https://origin-east-01-drupal-fishwa...   \n",
       "113  [{'src': 'https://origin-east-01-drupal-fishwa...   \n",
       "114  [{'src': 'https://origin-east-01-drupal-fishwa...   \n",
       "115  [{'src': 'https://origin-east-01-drupal-fishwa...   \n",
       "\n",
       "                                              Location Management  \\\n",
       "0    <ul>\\n<li>Crimson jobfish are distributed thro...       None   \n",
       "1    <ul>\\n<li>White hake are found in the northwes...       None   \n",
       "2    <ul>\\n<li>Atlantic chub mackerel in the wester...       None   \n",
       "3    <ul>\\n<li>Shortfin squid inhabits the continen...       None   \n",
       "4    <ul>\\n<li>American lobsters are found in the n...       None   \n",
       "..                                                 ...        ...   \n",
       "111  <ul>\\n<li>Alaska pollock are found throughout ...       None   \n",
       "112  <ul>\\n<li>Monkfish are found in the Northwest ...       None   \n",
       "113  <ul>\\n<li>Mahi mahi are found in the Atlantic,...       None   \n",
       "114  <ul>\\n<li>In U.S. waters, cobia are most abund...       None   \n",
       "115  <ul>\\n<li>In the Northwest Atlantic, cod range...       None   \n",
       "\n",
       "           NOAA Fisheries Region  \\\n",
       "0                Pacific Islands   \n",
       "1               Greater Atlantic   \n",
       "2               Greater Atlantic   \n",
       "3               Greater Atlantic   \n",
       "4               Greater Atlantic   \n",
       "..                           ...   \n",
       "111                       Alaska   \n",
       "112  Greater Atlantic, Southeast   \n",
       "113  Greater Atlantic, Southeast   \n",
       "114  Greater Atlantic, Southeast   \n",
       "115             Greater Atlantic   \n",
       "\n",
       "                                            Population  \\\n",
       "0    The population level is unknown, but the stock...   \n",
       "1                         The stock is not overfished.   \n",
       "2     The population level is unknown, but manageme...   \n",
       "3    The population level is unknown, but managemen...   \n",
       "4    The Gulf of Maine/Georges Bank stock is not ov...   \n",
       "..                                                 ...   \n",
       "111  The Aleutian Islands, Eastern Bering Sea, and ...   \n",
       "112  The population level is unknown and management...   \n",
       "113        The South Atlantic stock is not overfished.   \n",
       "114                       The stock is not overfished.   \n",
       "115  The Gulf of Maine and Georges Bank stocks are ...   \n",
       "\n",
       "                                     Population Status  \\\n",
       "0    <ul>\\n<li>There are five stocks of crimson job...   \n",
       "1    <ul>\\n<li>According to the 2022&nbsp;stock ass...   \n",
       "2    <p>Atlantic chub mackerel has never been asses...   \n",
       "3    <ul>\\n<li>According to the latest assessment (...   \n",
       "4    <ul>\\n<li>According to the 2020&nbsp;<a href=\"...   \n",
       "..                                                 ...   \n",
       "111  <ul>\\n<li>There are five stocks of walleye pol...   \n",
       "112  <ul>\\n<li>There are two stocks of monkfish: Gu...   \n",
       "113  <p>There are two stocks of dolphinfish: a Sout...   \n",
       "114  <ul>\\n<li>\\n<p>According to the 2020 stock ass...   \n",
       "115  <ul>\\n<li>There are two stocks of Atlantic cod...   \n",
       "\n",
       "                 Scientific Name  ...  Selenium Serving Weight Servings  \\\n",
       "0    Pristipomoides filamentosus  ...  38.2 mcg    100 g (raw)        1   \n",
       "1               Urophycis tenuis  ...  32.1 mcg    100 g (raw)        1   \n",
       "2                 Scomber colias  ...  44.1 mcg    100 g (raw)        1   \n",
       "3             Illex illecebrosus  ...  44.8 mcg          100 g        1   \n",
       "4             Homarus americanus  ...  41.4 mcg    100 g (raw)        1   \n",
       "..                           ...  ...       ...            ...      ...   \n",
       "111          Gadus chalcogrammus  ...  21.9 mcg    100 g (raw)        1   \n",
       "112           Lophius americanus  ...  36.5 mcg    100 g (raw)        1   \n",
       "113          Coryphaena hippurus  ...  36.5 mcg    100 g (raw)        1   \n",
       "114         Rachycentron canadum  ...  36.5 mcg    100 g (raw)        1   \n",
       "115                 Gadus morhua  ...  33.1 mcg          100 g        1   \n",
       "\n",
       "     Sodium                                             Source Sugars, Total  \\\n",
       "0     64 mg  <p>U.S -wild caught around Hawaii and Pacific ...           0 g   \n",
       "1     72 mg  <p>White hake is wild-caught from Maine to sou...           0 g   \n",
       "2     90 mg  <p>U.S. wild caught from Southern New England ...           0 g   \n",
       "3     44 mg  <p>U.S. wild-caught from Maine to North Caroli...           0 g   \n",
       "4    296 mg  <p>U.S. wild-caught from Maine to North Caroli...           0 g   \n",
       "..      ...                                                ...           ...   \n",
       "111   99 mg  <p>U.S. wild-caught, mainly in the Bering Sea ...           0 g   \n",
       "112   18 mg  <p>U.S. wild-caught from Maine to North Caroli...           0 g   \n",
       "113   88 mg  <p>Wild-caught from Massachusetts to Texas.</p>\\n           0 g   \n",
       "114  135 mg  <p>Wild-caught from Virginia to Texas. Cobia i...           0 g   \n",
       "115   54 mg       <p>Wild-caught from Maine to Virginia.</p>\\n           0 g   \n",
       "\n",
       "                                                 Taste  \\\n",
       "0      <p>Crimson jobfish has a delicate flavor.</p>\\n   \n",
       "1    <p>White hake has a mild, almost sweet&nbsp;ta...   \n",
       "2                    <p>Rich, pronounced flavor.</p>\\n   \n",
       "3      <p>Mild, and subtly sweet.</p>\\n<p>&nbsp;</p>\\n   \n",
       "4                             <p>Mild and sweet.</p>\\n   \n",
       "..                                                 ...   \n",
       "111  <p>Pollock has mild-tasting flesh and is simil...   \n",
       "112                                     <p>Mild.</p>\\n   \n",
       "113  <p>Mahi mahi has a sweet, mild flavor. For a m...   \n",
       "114           <p>Cobia has a sweet, rich flavor.</p>\\n   \n",
       "115  <p>Atlantic cod has a mild clean flavor. It is...   \n",
       "\n",
       "                                               Texture  \\\n",
       "0    <p>Crimson jobfish has&nbsp;a firm texture and...   \n",
       "1    <p>White hake has a soft, delicate texture tha...   \n",
       "2                     <p>Soft, flaky, and moist.</p>\\n   \n",
       "3                             <p>Firm and meaty.</p>\\n   \n",
       "4    <p>The meat is firm and somewhat fibrous. The ...   \n",
       "..                                                 ...   \n",
       "111  <p>Pollock has a relatively fine texture and i...   \n",
       "112  <p>The tail meat is firm, dense, and relativel...   \n",
       "113  <p>Mahi mahi is lean and fairly firm with larg...   \n",
       "114  <p>Cobia is lean, moist, and firm with a nice ...   \n",
       "115  <p>Cod has large flakes. It's less firm than h...   \n",
       "\n",
       "                                 Path         last_update  \n",
       "0           /profiles/crimson-jobfish  06/21/2022 - 12:00  \n",
       "1                /profiles/white-hake  01/11/2023 - 17:11  \n",
       "2    /profiles/atlantic-chub-mackerel  01/25/2023 - 09:57  \n",
       "3            /profiles/shortfin-squid  01/24/2023 - 12:42  \n",
       "4          /profiles/american-lobster  01/26/2023 - 15:22  \n",
       "..                                ...                 ...  \n",
       "111          /profiles/alaska-pollock  01/20/2023 - 15:00  \n",
       "112                /profiles/monkfish  01/11/2023 - 15:47  \n",
       "113      /profiles/atlantic-mahi-mahi  01/26/2023 - 14:51  \n",
       "114                   /profiles/cobia  01/18/2023 - 12:23  \n",
       "115            /profiles/atlantic-cod  01/19/2023 - 17:28  \n",
       "\n",
       "[116 rows x 56 columns]"
      ]
     },
     "execution_count": 14,
     "metadata": {},
     "output_type": "execute_result"
    }
   ],
   "source": [
    "# Write your code here\n",
    "import requests\n",
    "import json\n",
    "import pandas as pd\n",
    "data2 = requests.get(\"https://www.fishwatch.gov/api/species\")\n",
    "results2 = json.loads(data2.text)\n",
    "df3 = pd.DataFrame(results2)\n",
    "df3"
   ]
  },
  {
   "cell_type": "markdown",
   "metadata": {},
   "source": [
    "<details><summary>Click here for the solution</summary>\n",
    "\n",
    "```python\n",
    "df3 = pd.DataFrame(results2)\n",
    "df3\n",
    "```\n",
    "\n",
    "</details>\n"
   ]
  },
  {
   "cell_type": "markdown",
   "metadata": {},
   "source": [
    "# Congratulations! - You have completed the lab\n"
   ]
  },
  {
   "cell_type": "markdown",
   "metadata": {},
   "source": [
    "## Author\n",
    "[Svitlana Kramar](www.linkedin.com/in/svitlana-kramar)\n",
    "\n",
    "\n",
    "Svitlana is a master’s degree Data Science and Analytics student at University of Calgary, who enjoys travelling, learning new languages and cultures and loves spreading her passion for Data Science.\n"
   ]
  },
  {
   "cell_type": "markdown",
   "metadata": {},
   "source": [
    "                                Copyright © 2020 IBM Corporation. All rights reserved.\n"
   ]
  }
 ],
 "metadata": {
  "kernelspec": {
   "display_name": "Python",
   "language": "python",
   "name": "conda-env-python-py"
  },
  "language_info": {
   "codemirror_mode": {
    "name": "ipython",
    "version": 3
   },
   "file_extension": ".py",
   "mimetype": "text/x-python",
   "name": "python",
   "nbconvert_exporter": "python",
   "pygments_lexer": "ipython3",
   "version": "3.7.12"
  }
 },
 "nbformat": 4,
 "nbformat_minor": 4
}
